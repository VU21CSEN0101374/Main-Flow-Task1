{
  "nbformat": 4,
  "nbformat_minor": 0,
  "metadata": {
    "colab": {
      "provenance": []
    },
    "kernelspec": {
      "name": "python3",
      "display_name": "Python 3"
    },
    "language_info": {
      "name": "python"
    }
  },
  "cells": [
    {
      "cell_type": "code",
      "execution_count": 1,
      "metadata": {
        "colab": {
          "base_uri": "https://localhost:8080/"
        },
        "id": "x39QunTDgNld",
        "outputId": "2a1a33f3-b633-4f0d-e3a0-a39aa688ec2f"
      },
      "outputs": [
        {
          "output_type": "stream",
          "name": "stdout",
          "text": [
            "[1, 3, 5, 7, 9, 11, 13]\n",
            "Enter the number of elements you need in the list:\n",
            "3\n",
            "1\n",
            "2\n",
            "3\n",
            "[1, 2, 3]\n",
            "[1, 3, 9, 11, 13]\n",
            "Updated List [2, 3, 9, 11, 13]\n"
          ]
        }
      ],
      "source": [
        "#list\n",
        "list=[1,3,5,7,9]\n",
        "\n",
        "#adding an element\n",
        "list.append(11)\n",
        "list.append(13)\n",
        "print(list)\n",
        "\n",
        "#adding elements in the list by taking user inputs\n",
        "list1=[]\n",
        "print(\"Enter the number of elements you need in the list:\")\n",
        "n=int(input())\n",
        "for i in range(n):\n",
        "    list1.append(int(input()))\n",
        "print(list1)\n",
        "\n",
        "\n",
        "#deleting or removing an element from list\n",
        "list.remove(5)\n",
        "list.pop(2)\n",
        "print(list)\n",
        "\n",
        "#modifying an element in the list\n",
        "list[0]=2\n",
        "\n",
        "print(\"Updated List\",list)\n"
      ]
    },
    {
      "cell_type": "code",
      "source": [
        "#Creating a dictionary\n",
        "dict={'Name':'Pranavi','Age':21,'City':'Vizag'}\n",
        "print(dict)\n",
        "\n",
        "#adding an element\n",
        "dict['Gender']='Female'\n",
        "print(dict)\n",
        "\n",
        "#deleting or removing an element from dictionary\n",
        "del dict['Gender']\n",
        "print(dict)\n",
        "\n",
        "#modifying an element in the dictionary\n",
        "dict['City']='Bangalore'\n",
        "\n",
        "print(\"Updated Dictionary\",dict)"
      ],
      "metadata": {
        "colab": {
          "base_uri": "https://localhost:8080/"
        },
        "id": "R8RFpMI_gbsv",
        "outputId": "024a384d-05c5-4642-96b7-ae47149cd860"
      },
      "execution_count": 2,
      "outputs": [
        {
          "output_type": "stream",
          "name": "stdout",
          "text": [
            "{'Name': 'Pranavi', 'Age': 21, 'City': 'Vizag'}\n",
            "{'Name': 'Pranavi', 'Age': 21, 'City': 'Vizag', 'Gender': 'Female'}\n",
            "{'Name': 'Pranavi', 'Age': 21, 'City': 'Vizag'}\n",
            "Updated Dictionary {'Name': 'Pranavi', 'Age': 21, 'City': 'Bangalore'}\n"
          ]
        }
      ]
    },
    {
      "cell_type": "code",
      "source": [
        "#Creating a Set\n",
        "set={1,2,3,4,5,6}\n",
        "print(set)\n",
        "\n",
        "#adding an element\n",
        "set.add(7)\n",
        "set.add(8)\n",
        "print(set)\n",
        "\n",
        "#deleting or removing an element from set\n",
        "set.remove(2)\n",
        "set.remove(4)\n",
        "print(set)\n",
        "\n",
        "#modifying an element in the set\n",
        "set.discard(1)\n",
        "set.add(9)\n",
        "\n",
        "print(\"Updated Set\",set)"
      ],
      "metadata": {
        "colab": {
          "base_uri": "https://localhost:8080/"
        },
        "id": "30xZOVNFgfUU",
        "outputId": "73f33be2-a1bd-4953-f631-e734494aa0a5"
      },
      "execution_count": 3,
      "outputs": [
        {
          "output_type": "stream",
          "name": "stdout",
          "text": [
            "{1, 2, 3, 4, 5, 6}\n",
            "{1, 2, 3, 4, 5, 6, 7, 8}\n",
            "{1, 3, 5, 6, 7, 8}\n",
            "Updated Set {3, 5, 6, 7, 8, 9}\n"
          ]
        }
      ]
    }
  ]
}